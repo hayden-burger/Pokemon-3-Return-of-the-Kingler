{
 "cells": [
  {
   "cell_type": "markdown",
   "metadata": {},
   "source": [
    "## Pokemon 3: Return of the Kingler\n",
    "\n",
    "#### Hayden Burger, Corinne Desroches, David Lee"
   ]
  },
  {
   "cell_type": "markdown",
   "metadata": {},
   "source": [
    "(Tutorial requirements):\n",
    "\n",
    "Accurately summarizes original presentation and incorporates feedback.  Effectively presents entire data analysis workflow in written form, with appropriate references.  Serves as tutorial to enable other users to understand and repeat analysis. \n",
    "\n",
    "Makes effective use of the GitLab platform to organize code, provide data downloading instructions, ensuring project can be replicated by other users, and includes overall aesthetics of Readme document. \n"
   ]
  },
  {
   "cell_type": "markdown",
   "metadata": {},
   "source": [
    "To do:\n",
    "\n",
    "-Brief intro\n",
    "\n",
    "-Discuss API\n",
    "\n",
    "-Discuss python scripts\n",
    "\n",
    "-Discuss running script/ Hamming/ shell command\n",
    "\n",
    "-Discuss data format\n",
    "\n",
    "-Discuss data imaging/ streamlit"
   ]
  },
  {
   "cell_type": "markdown",
   "metadata": {},
   "source": [
    "### Data Gathering"
   ]
  },
  {
   "cell_type": "markdown",
   "metadata": {},
   "source": [
    "### More Stuff"
   ]
  },
  {
   "cell_type": "markdown",
   "metadata": {},
   "source": [
    "### How to Run"
   ]
  },
  {
   "cell_type": "markdown",
   "metadata": {},
   "source": [
    "#Paste sh script and talk about what the pieces mean\n",
    "- Hamming\n",
    "\n",
    "`salloc`\n",
    "\n",
    "`sbatch pokemon_battle.sh`"
   ]
  },
  {
   "cell_type": "code",
   "execution_count": null,
   "metadata": {},
   "outputs": [],
   "source": []
  },
  {
   "cell_type": "code",
   "execution_count": null,
   "metadata": {},
   "outputs": [],
   "source": []
  }
 ],
 "metadata": {
  "language_info": {
   "name": "python"
  }
 },
 "nbformat": 4,
 "nbformat_minor": 2
}
